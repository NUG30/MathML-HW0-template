{
  "nbformat": 4,
  "nbformat_minor": 0,
  "metadata": {
    "colab": {
      "name": "assignment.ipynb",
      "provenance": [],
      "authorship_tag": "ABX9TyPsiKtXLIlJLRI2edLs8mMc",
      "include_colab_link": true
    },
    "kernelspec": {
      "name": "python3",
      "display_name": "Python 3"
    }
  },
  "cells": [
    {
      "cell_type": "markdown",
      "metadata": {
        "id": "view-in-github",
        "colab_type": "text"
      },
      "source": [
        "<a href=\"https://colab.research.google.com/github/NUG30/MathML-HW0-template/blob/master/assignment.ipynb\" target=\"_parent\"><img src=\"https://colab.research.google.com/assets/colab-badge.svg\" alt=\"Open In Colab\"/></a>"
      ]
    },
    {
      "cell_type": "markdown",
      "metadata": {
        "id": "MzlSYDFacuFX"
      },
      "source": [
        "# Homework 0: Welcome to Mathematics for Machine Learning\n",
        "This assignment serves to help you get familiar with GitHub and Google Colab, as well as a few basic Python commands.\n",
        "\n",
        "## Part 0: Open the assignment\n",
        "If you are viewing this assignment from GitHub, open it in Google Colab. There are two ways to do it:\n",
        "\n",
        "* find out the address (URL) of this notebook on GitHub (for example, you can copy it from the address bar of your browse) and change the URL. If the URL of your notebook is  https://github.com/foo/bar/blob/master/assignment.ipynb, then the Colab link to it is: https://colab.research.google.com/github/foo/bar/blob/master/colab-github-demo.ipynb;\n",
        "* if you are using Chrome, then installing the [Open in Colab](https://chrome.google.com/webstore/detail/open-in-colab/iogfkhleblhcpcekbiedikdehleodpjo) extension would allow you to open this notebook in Colab in just one click.\n",
        "\n",
        "The rest of this assignment assumes that you are opening the "
      ]
    }
  ]
}